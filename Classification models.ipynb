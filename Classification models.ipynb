{
 "cells": [
  {
   "cell_type": "markdown",
   "id": "8033c9f7",
   "metadata": {},
   "source": [
    "### Purpse of this study is to come up with a model that would predict if an employee wold leave the company or not.\n",
    "\n",
    "#### I will be experimenting with different classification models to predict if the employee will leave the company or not"
   ]
  },
  {
   "cell_type": "code",
   "execution_count": 321,
   "id": "64e15660",
   "metadata": {},
   "outputs": [],
   "source": [
    "# importing libraries\n",
    "\n",
    "import numpy as np\n",
    "import pandas as pd\n",
    "import matplotlib.pyplot as plt\n",
    "\n",
    "import warnings\n",
    "warnings.filterwarnings(\"ignore\")\n",
    "\n",
    "from sklearn.model_selection import train_test_split\n",
    "from sklearn.tree import DecisionTreeClassifier\n",
    "from sklearn.neighbors import KNeighborsClassifier\n",
    "from sklearn.metrics import confusion_matrix\n",
    "from sklearn.metrics import f1_score\n",
    "from sklearn.metrics import accuracy_score\n",
    "from sklearn.model_selection import cross_val_score"
   ]
  },
  {
   "cell_type": "code",
   "execution_count": 322,
   "id": "0d79edc8",
   "metadata": {},
   "outputs": [
    {
     "data": {
      "text/html": [
       "<div>\n",
       "<style scoped>\n",
       "    .dataframe tbody tr th:only-of-type {\n",
       "        vertical-align: middle;\n",
       "    }\n",
       "\n",
       "    .dataframe tbody tr th {\n",
       "        vertical-align: top;\n",
       "    }\n",
       "\n",
       "    .dataframe thead th {\n",
       "        text-align: right;\n",
       "    }\n",
       "</style>\n",
       "<table border=\"1\" class=\"dataframe\">\n",
       "  <thead>\n",
       "    <tr style=\"text-align: right;\">\n",
       "      <th></th>\n",
       "      <th>Age</th>\n",
       "      <th>Attrition</th>\n",
       "      <th>BusinessTravel</th>\n",
       "      <th>Department</th>\n",
       "      <th>EducationField</th>\n",
       "      <th>EnvironmentSatisfaction</th>\n",
       "      <th>Gender</th>\n",
       "      <th>JobInvolvement</th>\n",
       "      <th>JobLevel</th>\n",
       "      <th>JobSatisfaction</th>\n",
       "      <th>MaritalStatus</th>\n",
       "      <th>MonthlyIncome</th>\n",
       "      <th>OverTime</th>\n",
       "      <th>TotalWorkingYears</th>\n",
       "      <th>WorkLifeBalance</th>\n",
       "      <th>YearsAtCompany</th>\n",
       "      <th>YearsInCurrentRole</th>\n",
       "      <th>YearsSinceLastPromotion</th>\n",
       "      <th>YearsWithCurrManager</th>\n",
       "      <th>DistanceFromHome</th>\n",
       "    </tr>\n",
       "  </thead>\n",
       "  <tbody>\n",
       "    <tr>\n",
       "      <th>0</th>\n",
       "      <td>41</td>\n",
       "      <td>1</td>\n",
       "      <td>Travel_Rarely</td>\n",
       "      <td>Sales</td>\n",
       "      <td>Life Sciences</td>\n",
       "      <td>2</td>\n",
       "      <td>Female</td>\n",
       "      <td>3</td>\n",
       "      <td>2</td>\n",
       "      <td>4</td>\n",
       "      <td>Single</td>\n",
       "      <td>5993</td>\n",
       "      <td>Yes</td>\n",
       "      <td>8</td>\n",
       "      <td>1</td>\n",
       "      <td>6</td>\n",
       "      <td>4</td>\n",
       "      <td>0</td>\n",
       "      <td>5</td>\n",
       "      <td>1</td>\n",
       "    </tr>\n",
       "    <tr>\n",
       "      <th>1</th>\n",
       "      <td>49</td>\n",
       "      <td>0</td>\n",
       "      <td>Travel_Frequently</td>\n",
       "      <td>Research &amp; Development</td>\n",
       "      <td>Life Sciences</td>\n",
       "      <td>3</td>\n",
       "      <td>Male</td>\n",
       "      <td>2</td>\n",
       "      <td>2</td>\n",
       "      <td>2</td>\n",
       "      <td>Married</td>\n",
       "      <td>5130</td>\n",
       "      <td>No</td>\n",
       "      <td>10</td>\n",
       "      <td>3</td>\n",
       "      <td>10</td>\n",
       "      <td>7</td>\n",
       "      <td>1</td>\n",
       "      <td>7</td>\n",
       "      <td>8</td>\n",
       "    </tr>\n",
       "    <tr>\n",
       "      <th>2</th>\n",
       "      <td>37</td>\n",
       "      <td>1</td>\n",
       "      <td>Travel_Rarely</td>\n",
       "      <td>Research &amp; Development</td>\n",
       "      <td>Other</td>\n",
       "      <td>4</td>\n",
       "      <td>Male</td>\n",
       "      <td>2</td>\n",
       "      <td>1</td>\n",
       "      <td>3</td>\n",
       "      <td>Single</td>\n",
       "      <td>2090</td>\n",
       "      <td>Yes</td>\n",
       "      <td>7</td>\n",
       "      <td>3</td>\n",
       "      <td>0</td>\n",
       "      <td>0</td>\n",
       "      <td>0</td>\n",
       "      <td>0</td>\n",
       "      <td>2</td>\n",
       "    </tr>\n",
       "    <tr>\n",
       "      <th>3</th>\n",
       "      <td>33</td>\n",
       "      <td>0</td>\n",
       "      <td>Travel_Frequently</td>\n",
       "      <td>Research &amp; Development</td>\n",
       "      <td>Life Sciences</td>\n",
       "      <td>4</td>\n",
       "      <td>Female</td>\n",
       "      <td>3</td>\n",
       "      <td>1</td>\n",
       "      <td>3</td>\n",
       "      <td>Married</td>\n",
       "      <td>2909</td>\n",
       "      <td>Yes</td>\n",
       "      <td>8</td>\n",
       "      <td>3</td>\n",
       "      <td>8</td>\n",
       "      <td>7</td>\n",
       "      <td>3</td>\n",
       "      <td>0</td>\n",
       "      <td>3</td>\n",
       "    </tr>\n",
       "    <tr>\n",
       "      <th>4</th>\n",
       "      <td>27</td>\n",
       "      <td>0</td>\n",
       "      <td>Travel_Rarely</td>\n",
       "      <td>Research &amp; Development</td>\n",
       "      <td>Medical</td>\n",
       "      <td>1</td>\n",
       "      <td>Male</td>\n",
       "      <td>3</td>\n",
       "      <td>1</td>\n",
       "      <td>2</td>\n",
       "      <td>Married</td>\n",
       "      <td>3468</td>\n",
       "      <td>No</td>\n",
       "      <td>6</td>\n",
       "      <td>3</td>\n",
       "      <td>2</td>\n",
       "      <td>2</td>\n",
       "      <td>2</td>\n",
       "      <td>2</td>\n",
       "      <td>2</td>\n",
       "    </tr>\n",
       "  </tbody>\n",
       "</table>\n",
       "</div>"
      ],
      "text/plain": [
       "   Age  Attrition     BusinessTravel              Department EducationField  \\\n",
       "0   41          1      Travel_Rarely                   Sales  Life Sciences   \n",
       "1   49          0  Travel_Frequently  Research & Development  Life Sciences   \n",
       "2   37          1      Travel_Rarely  Research & Development          Other   \n",
       "3   33          0  Travel_Frequently  Research & Development  Life Sciences   \n",
       "4   27          0      Travel_Rarely  Research & Development        Medical   \n",
       "\n",
       "   EnvironmentSatisfaction  Gender  JobInvolvement  JobLevel  JobSatisfaction  \\\n",
       "0                        2  Female               3         2                4   \n",
       "1                        3    Male               2         2                2   \n",
       "2                        4    Male               2         1                3   \n",
       "3                        4  Female               3         1                3   \n",
       "4                        1    Male               3         1                2   \n",
       "\n",
       "  MaritalStatus  MonthlyIncome OverTime  TotalWorkingYears  WorkLifeBalance  \\\n",
       "0        Single           5993      Yes                  8                1   \n",
       "1       Married           5130       No                 10                3   \n",
       "2        Single           2090      Yes                  7                3   \n",
       "3       Married           2909      Yes                  8                3   \n",
       "4       Married           3468       No                  6                3   \n",
       "\n",
       "   YearsAtCompany  YearsInCurrentRole  YearsSinceLastPromotion  \\\n",
       "0               6                   4                        0   \n",
       "1              10                   7                        1   \n",
       "2               0                   0                        0   \n",
       "3               8                   7                        3   \n",
       "4               2                   2                        2   \n",
       "\n",
       "   YearsWithCurrManager  DistanceFromHome  \n",
       "0                     5                 1  \n",
       "1                     7                 8  \n",
       "2                     0                 2  \n",
       "3                     0                 3  \n",
       "4                     2                 2  "
      ]
     },
     "execution_count": 322,
     "metadata": {},
     "output_type": "execute_result"
    }
   ],
   "source": [
    "# reading the file\n",
    "\n",
    "data=pd.read_csv(\"https://raw.githubusercontent.com/AkhilaShanbhag/Attrition-dataset/main/attrition.csv\")\n",
    "data.head()"
   ]
  },
  {
   "cell_type": "code",
   "execution_count": 323,
   "id": "d5b1093b",
   "metadata": {},
   "outputs": [],
   "source": [
    "df=data.copy()"
   ]
  },
  {
   "cell_type": "code",
   "execution_count": 324,
   "id": "e9b705aa",
   "metadata": {},
   "outputs": [
    {
     "data": {
      "text/html": [
       "<div>\n",
       "<style scoped>\n",
       "    .dataframe tbody tr th:only-of-type {\n",
       "        vertical-align: middle;\n",
       "    }\n",
       "\n",
       "    .dataframe tbody tr th {\n",
       "        vertical-align: top;\n",
       "    }\n",
       "\n",
       "    .dataframe thead th {\n",
       "        text-align: right;\n",
       "    }\n",
       "</style>\n",
       "<table border=\"1\" class=\"dataframe\">\n",
       "  <thead>\n",
       "    <tr style=\"text-align: right;\">\n",
       "      <th></th>\n",
       "      <th>Age</th>\n",
       "      <th>Attrition</th>\n",
       "      <th>BusinessTravel</th>\n",
       "      <th>Department</th>\n",
       "      <th>EducationField</th>\n",
       "      <th>EnvironmentSatisfaction</th>\n",
       "      <th>Gender</th>\n",
       "      <th>JobInvolvement</th>\n",
       "      <th>JobLevel</th>\n",
       "      <th>JobSatisfaction</th>\n",
       "      <th>MaritalStatus</th>\n",
       "      <th>MonthlyIncome</th>\n",
       "      <th>OverTime</th>\n",
       "      <th>TotalWorkingYears</th>\n",
       "      <th>WorkLifeBalance</th>\n",
       "      <th>YearsAtCompany</th>\n",
       "      <th>YearsInCurrentRole</th>\n",
       "      <th>YearsSinceLastPromotion</th>\n",
       "      <th>YearsWithCurrManager</th>\n",
       "      <th>DistanceFromHome</th>\n",
       "    </tr>\n",
       "  </thead>\n",
       "  <tbody>\n",
       "    <tr>\n",
       "      <th>0</th>\n",
       "      <td>41</td>\n",
       "      <td>1</td>\n",
       "      <td>3</td>\n",
       "      <td>3</td>\n",
       "      <td>2</td>\n",
       "      <td>2</td>\n",
       "      <td>0</td>\n",
       "      <td>3</td>\n",
       "      <td>2</td>\n",
       "      <td>4</td>\n",
       "      <td>3</td>\n",
       "      <td>5993</td>\n",
       "      <td>1</td>\n",
       "      <td>8</td>\n",
       "      <td>1</td>\n",
       "      <td>6</td>\n",
       "      <td>4</td>\n",
       "      <td>0</td>\n",
       "      <td>5</td>\n",
       "      <td>1</td>\n",
       "    </tr>\n",
       "    <tr>\n",
       "      <th>1</th>\n",
       "      <td>49</td>\n",
       "      <td>0</td>\n",
       "      <td>2</td>\n",
       "      <td>2</td>\n",
       "      <td>2</td>\n",
       "      <td>3</td>\n",
       "      <td>1</td>\n",
       "      <td>2</td>\n",
       "      <td>2</td>\n",
       "      <td>2</td>\n",
       "      <td>2</td>\n",
       "      <td>5130</td>\n",
       "      <td>0</td>\n",
       "      <td>10</td>\n",
       "      <td>3</td>\n",
       "      <td>10</td>\n",
       "      <td>7</td>\n",
       "      <td>1</td>\n",
       "      <td>7</td>\n",
       "      <td>8</td>\n",
       "    </tr>\n",
       "    <tr>\n",
       "      <th>2</th>\n",
       "      <td>37</td>\n",
       "      <td>1</td>\n",
       "      <td>3</td>\n",
       "      <td>2</td>\n",
       "      <td>5</td>\n",
       "      <td>4</td>\n",
       "      <td>1</td>\n",
       "      <td>2</td>\n",
       "      <td>1</td>\n",
       "      <td>3</td>\n",
       "      <td>3</td>\n",
       "      <td>2090</td>\n",
       "      <td>1</td>\n",
       "      <td>7</td>\n",
       "      <td>3</td>\n",
       "      <td>0</td>\n",
       "      <td>0</td>\n",
       "      <td>0</td>\n",
       "      <td>0</td>\n",
       "      <td>2</td>\n",
       "    </tr>\n",
       "    <tr>\n",
       "      <th>3</th>\n",
       "      <td>33</td>\n",
       "      <td>0</td>\n",
       "      <td>2</td>\n",
       "      <td>2</td>\n",
       "      <td>2</td>\n",
       "      <td>4</td>\n",
       "      <td>0</td>\n",
       "      <td>3</td>\n",
       "      <td>1</td>\n",
       "      <td>3</td>\n",
       "      <td>2</td>\n",
       "      <td>2909</td>\n",
       "      <td>1</td>\n",
       "      <td>8</td>\n",
       "      <td>3</td>\n",
       "      <td>8</td>\n",
       "      <td>7</td>\n",
       "      <td>3</td>\n",
       "      <td>0</td>\n",
       "      <td>3</td>\n",
       "    </tr>\n",
       "    <tr>\n",
       "      <th>4</th>\n",
       "      <td>27</td>\n",
       "      <td>0</td>\n",
       "      <td>3</td>\n",
       "      <td>2</td>\n",
       "      <td>4</td>\n",
       "      <td>1</td>\n",
       "      <td>1</td>\n",
       "      <td>3</td>\n",
       "      <td>1</td>\n",
       "      <td>2</td>\n",
       "      <td>2</td>\n",
       "      <td>3468</td>\n",
       "      <td>0</td>\n",
       "      <td>6</td>\n",
       "      <td>3</td>\n",
       "      <td>2</td>\n",
       "      <td>2</td>\n",
       "      <td>2</td>\n",
       "      <td>2</td>\n",
       "      <td>2</td>\n",
       "    </tr>\n",
       "  </tbody>\n",
       "</table>\n",
       "</div>"
      ],
      "text/plain": [
       "   Age  Attrition  BusinessTravel  Department  EducationField  \\\n",
       "0   41          1               3           3               2   \n",
       "1   49          0               2           2               2   \n",
       "2   37          1               3           2               5   \n",
       "3   33          0               2           2               2   \n",
       "4   27          0               3           2               4   \n",
       "\n",
       "   EnvironmentSatisfaction  Gender  JobInvolvement  JobLevel  JobSatisfaction  \\\n",
       "0                        2       0               3         2                4   \n",
       "1                        3       1               2         2                2   \n",
       "2                        4       1               2         1                3   \n",
       "3                        4       0               3         1                3   \n",
       "4                        1       1               3         1                2   \n",
       "\n",
       "   MaritalStatus  MonthlyIncome  OverTime  TotalWorkingYears  WorkLifeBalance  \\\n",
       "0              3           5993         1                  8                1   \n",
       "1              2           5130         0                 10                3   \n",
       "2              3           2090         1                  7                3   \n",
       "3              2           2909         1                  8                3   \n",
       "4              2           3468         0                  6                3   \n",
       "\n",
       "   YearsAtCompany  YearsInCurrentRole  YearsSinceLastPromotion  \\\n",
       "0               6                   4                        0   \n",
       "1              10                   7                        1   \n",
       "2               0                   0                        0   \n",
       "3               8                   7                        3   \n",
       "4               2                   2                        2   \n",
       "\n",
       "   YearsWithCurrManager  DistanceFromHome  \n",
       "0                     5                 1  \n",
       "1                     7                 8  \n",
       "2                     0                 2  \n",
       "3                     0                 3  \n",
       "4                     2                 2  "
      ]
     },
     "execution_count": 324,
     "metadata": {},
     "output_type": "execute_result"
    }
   ],
   "source": [
    "# replacing the categorical string values with categorical numeric values\n",
    "\n",
    "df.OverTime.replace([\"Yes\",\"No\"],[1,0],inplace=True)\n",
    "df.Department.replace([\"Human Resources\",\"Research & Development\",\"Sales\"],[1,2,3],inplace=True)\n",
    "df.BusinessTravel.replace([\"Non-Travel\",\"Travel_Frequently\",\"Travel_Rarely\"],[1,2,3],inplace=True)\n",
    "df.EducationField.replace([\"Human Resources\",\"Life Sciences\",\"Marketing\",\"Medical\",\"Other\",\"Technical Degree\"],[1,2,3,4,5,6],inplace=True)\n",
    "df.Gender.replace([\"Male\",\"Female\"],[1,0],inplace=True)\n",
    "df.MaritalStatus.replace([\"Divorced\",\"Married\",\"Single\"],[1,2,3],inplace=True)\n",
    "df.head()"
   ]
  },
  {
   "cell_type": "code",
   "execution_count": 325,
   "id": "aa626557",
   "metadata": {},
   "outputs": [
    {
     "data": {
      "text/plain": [
       "(1470, 20)"
      ]
     },
     "execution_count": 325,
     "metadata": {},
     "output_type": "execute_result"
    }
   ],
   "source": [
    "df.shape"
   ]
  },
  {
   "cell_type": "code",
   "execution_count": 326,
   "id": "34b60a96",
   "metadata": {},
   "outputs": [
    {
     "data": {
      "text/html": [
       "<div>\n",
       "<style scoped>\n",
       "    .dataframe tbody tr th:only-of-type {\n",
       "        vertical-align: middle;\n",
       "    }\n",
       "\n",
       "    .dataframe tbody tr th {\n",
       "        vertical-align: top;\n",
       "    }\n",
       "\n",
       "    .dataframe thead th {\n",
       "        text-align: right;\n",
       "    }\n",
       "</style>\n",
       "<table border=\"1\" class=\"dataframe\">\n",
       "  <thead>\n",
       "    <tr style=\"text-align: right;\">\n",
       "      <th></th>\n",
       "      <th>Age</th>\n",
       "      <th>Attrition</th>\n",
       "      <th>BusinessTravel</th>\n",
       "      <th>Department</th>\n",
       "      <th>EducationField</th>\n",
       "      <th>EnvironmentSatisfaction</th>\n",
       "      <th>Gender</th>\n",
       "      <th>JobInvolvement</th>\n",
       "      <th>JobLevel</th>\n",
       "      <th>JobSatisfaction</th>\n",
       "      <th>MaritalStatus</th>\n",
       "      <th>MonthlyIncome</th>\n",
       "      <th>OverTime</th>\n",
       "      <th>TotalWorkingYears</th>\n",
       "      <th>WorkLifeBalance</th>\n",
       "      <th>YearsAtCompany</th>\n",
       "      <th>YearsInCurrentRole</th>\n",
       "      <th>YearsSinceLastPromotion</th>\n",
       "      <th>YearsWithCurrManager</th>\n",
       "      <th>DistanceFromHome</th>\n",
       "    </tr>\n",
       "  </thead>\n",
       "  <tbody>\n",
       "    <tr>\n",
       "      <th>0</th>\n",
       "      <td>41</td>\n",
       "      <td>1</td>\n",
       "      <td>3</td>\n",
       "      <td>3</td>\n",
       "      <td>2</td>\n",
       "      <td>2</td>\n",
       "      <td>0</td>\n",
       "      <td>3</td>\n",
       "      <td>2</td>\n",
       "      <td>4</td>\n",
       "      <td>3</td>\n",
       "      <td>5993</td>\n",
       "      <td>1</td>\n",
       "      <td>8</td>\n",
       "      <td>1</td>\n",
       "      <td>6</td>\n",
       "      <td>4</td>\n",
       "      <td>0</td>\n",
       "      <td>5</td>\n",
       "      <td>1</td>\n",
       "    </tr>\n",
       "    <tr>\n",
       "      <th>1</th>\n",
       "      <td>49</td>\n",
       "      <td>0</td>\n",
       "      <td>2</td>\n",
       "      <td>2</td>\n",
       "      <td>2</td>\n",
       "      <td>3</td>\n",
       "      <td>1</td>\n",
       "      <td>2</td>\n",
       "      <td>2</td>\n",
       "      <td>2</td>\n",
       "      <td>2</td>\n",
       "      <td>5130</td>\n",
       "      <td>0</td>\n",
       "      <td>10</td>\n",
       "      <td>3</td>\n",
       "      <td>10</td>\n",
       "      <td>7</td>\n",
       "      <td>1</td>\n",
       "      <td>7</td>\n",
       "      <td>8</td>\n",
       "    </tr>\n",
       "    <tr>\n",
       "      <th>2</th>\n",
       "      <td>37</td>\n",
       "      <td>1</td>\n",
       "      <td>3</td>\n",
       "      <td>2</td>\n",
       "      <td>5</td>\n",
       "      <td>4</td>\n",
       "      <td>1</td>\n",
       "      <td>2</td>\n",
       "      <td>1</td>\n",
       "      <td>3</td>\n",
       "      <td>3</td>\n",
       "      <td>2090</td>\n",
       "      <td>1</td>\n",
       "      <td>7</td>\n",
       "      <td>3</td>\n",
       "      <td>0</td>\n",
       "      <td>0</td>\n",
       "      <td>0</td>\n",
       "      <td>0</td>\n",
       "      <td>2</td>\n",
       "    </tr>\n",
       "    <tr>\n",
       "      <th>3</th>\n",
       "      <td>33</td>\n",
       "      <td>0</td>\n",
       "      <td>2</td>\n",
       "      <td>2</td>\n",
       "      <td>2</td>\n",
       "      <td>4</td>\n",
       "      <td>0</td>\n",
       "      <td>3</td>\n",
       "      <td>1</td>\n",
       "      <td>3</td>\n",
       "      <td>2</td>\n",
       "      <td>2909</td>\n",
       "      <td>1</td>\n",
       "      <td>8</td>\n",
       "      <td>3</td>\n",
       "      <td>8</td>\n",
       "      <td>7</td>\n",
       "      <td>3</td>\n",
       "      <td>0</td>\n",
       "      <td>3</td>\n",
       "    </tr>\n",
       "    <tr>\n",
       "      <th>4</th>\n",
       "      <td>27</td>\n",
       "      <td>0</td>\n",
       "      <td>3</td>\n",
       "      <td>2</td>\n",
       "      <td>4</td>\n",
       "      <td>1</td>\n",
       "      <td>1</td>\n",
       "      <td>3</td>\n",
       "      <td>1</td>\n",
       "      <td>2</td>\n",
       "      <td>2</td>\n",
       "      <td>3468</td>\n",
       "      <td>0</td>\n",
       "      <td>6</td>\n",
       "      <td>3</td>\n",
       "      <td>2</td>\n",
       "      <td>2</td>\n",
       "      <td>2</td>\n",
       "      <td>2</td>\n",
       "      <td>2</td>\n",
       "    </tr>\n",
       "    <tr>\n",
       "      <th>...</th>\n",
       "      <td>...</td>\n",
       "      <td>...</td>\n",
       "      <td>...</td>\n",
       "      <td>...</td>\n",
       "      <td>...</td>\n",
       "      <td>...</td>\n",
       "      <td>...</td>\n",
       "      <td>...</td>\n",
       "      <td>...</td>\n",
       "      <td>...</td>\n",
       "      <td>...</td>\n",
       "      <td>...</td>\n",
       "      <td>...</td>\n",
       "      <td>...</td>\n",
       "      <td>...</td>\n",
       "      <td>...</td>\n",
       "      <td>...</td>\n",
       "      <td>...</td>\n",
       "      <td>...</td>\n",
       "      <td>...</td>\n",
       "    </tr>\n",
       "    <tr>\n",
       "      <th>1465</th>\n",
       "      <td>36</td>\n",
       "      <td>0</td>\n",
       "      <td>2</td>\n",
       "      <td>2</td>\n",
       "      <td>4</td>\n",
       "      <td>3</td>\n",
       "      <td>1</td>\n",
       "      <td>4</td>\n",
       "      <td>2</td>\n",
       "      <td>4</td>\n",
       "      <td>2</td>\n",
       "      <td>2571</td>\n",
       "      <td>0</td>\n",
       "      <td>17</td>\n",
       "      <td>3</td>\n",
       "      <td>5</td>\n",
       "      <td>2</td>\n",
       "      <td>0</td>\n",
       "      <td>3</td>\n",
       "      <td>23</td>\n",
       "    </tr>\n",
       "    <tr>\n",
       "      <th>1466</th>\n",
       "      <td>39</td>\n",
       "      <td>0</td>\n",
       "      <td>3</td>\n",
       "      <td>2</td>\n",
       "      <td>4</td>\n",
       "      <td>4</td>\n",
       "      <td>1</td>\n",
       "      <td>2</td>\n",
       "      <td>3</td>\n",
       "      <td>1</td>\n",
       "      <td>2</td>\n",
       "      <td>9991</td>\n",
       "      <td>0</td>\n",
       "      <td>9</td>\n",
       "      <td>3</td>\n",
       "      <td>7</td>\n",
       "      <td>7</td>\n",
       "      <td>1</td>\n",
       "      <td>7</td>\n",
       "      <td>6</td>\n",
       "    </tr>\n",
       "    <tr>\n",
       "      <th>1467</th>\n",
       "      <td>27</td>\n",
       "      <td>0</td>\n",
       "      <td>3</td>\n",
       "      <td>2</td>\n",
       "      <td>2</td>\n",
       "      <td>2</td>\n",
       "      <td>1</td>\n",
       "      <td>4</td>\n",
       "      <td>2</td>\n",
       "      <td>2</td>\n",
       "      <td>2</td>\n",
       "      <td>6142</td>\n",
       "      <td>1</td>\n",
       "      <td>6</td>\n",
       "      <td>3</td>\n",
       "      <td>6</td>\n",
       "      <td>2</td>\n",
       "      <td>0</td>\n",
       "      <td>3</td>\n",
       "      <td>4</td>\n",
       "    </tr>\n",
       "    <tr>\n",
       "      <th>1468</th>\n",
       "      <td>49</td>\n",
       "      <td>0</td>\n",
       "      <td>2</td>\n",
       "      <td>3</td>\n",
       "      <td>4</td>\n",
       "      <td>4</td>\n",
       "      <td>1</td>\n",
       "      <td>2</td>\n",
       "      <td>2</td>\n",
       "      <td>2</td>\n",
       "      <td>2</td>\n",
       "      <td>5390</td>\n",
       "      <td>0</td>\n",
       "      <td>17</td>\n",
       "      <td>2</td>\n",
       "      <td>9</td>\n",
       "      <td>6</td>\n",
       "      <td>0</td>\n",
       "      <td>8</td>\n",
       "      <td>2</td>\n",
       "    </tr>\n",
       "    <tr>\n",
       "      <th>1469</th>\n",
       "      <td>34</td>\n",
       "      <td>0</td>\n",
       "      <td>3</td>\n",
       "      <td>2</td>\n",
       "      <td>4</td>\n",
       "      <td>2</td>\n",
       "      <td>1</td>\n",
       "      <td>4</td>\n",
       "      <td>2</td>\n",
       "      <td>3</td>\n",
       "      <td>2</td>\n",
       "      <td>4404</td>\n",
       "      <td>0</td>\n",
       "      <td>6</td>\n",
       "      <td>4</td>\n",
       "      <td>4</td>\n",
       "      <td>3</td>\n",
       "      <td>1</td>\n",
       "      <td>2</td>\n",
       "      <td>8</td>\n",
       "    </tr>\n",
       "  </tbody>\n",
       "</table>\n",
       "<p>1470 rows × 20 columns</p>\n",
       "</div>"
      ],
      "text/plain": [
       "      Age  Attrition  BusinessTravel  Department  EducationField  \\\n",
       "0      41          1               3           3               2   \n",
       "1      49          0               2           2               2   \n",
       "2      37          1               3           2               5   \n",
       "3      33          0               2           2               2   \n",
       "4      27          0               3           2               4   \n",
       "...   ...        ...             ...         ...             ...   \n",
       "1465   36          0               2           2               4   \n",
       "1466   39          0               3           2               4   \n",
       "1467   27          0               3           2               2   \n",
       "1468   49          0               2           3               4   \n",
       "1469   34          0               3           2               4   \n",
       "\n",
       "      EnvironmentSatisfaction  Gender  JobInvolvement  JobLevel  \\\n",
       "0                           2       0               3         2   \n",
       "1                           3       1               2         2   \n",
       "2                           4       1               2         1   \n",
       "3                           4       0               3         1   \n",
       "4                           1       1               3         1   \n",
       "...                       ...     ...             ...       ...   \n",
       "1465                        3       1               4         2   \n",
       "1466                        4       1               2         3   \n",
       "1467                        2       1               4         2   \n",
       "1468                        4       1               2         2   \n",
       "1469                        2       1               4         2   \n",
       "\n",
       "      JobSatisfaction  MaritalStatus  MonthlyIncome  OverTime  \\\n",
       "0                   4              3           5993         1   \n",
       "1                   2              2           5130         0   \n",
       "2                   3              3           2090         1   \n",
       "3                   3              2           2909         1   \n",
       "4                   2              2           3468         0   \n",
       "...               ...            ...            ...       ...   \n",
       "1465                4              2           2571         0   \n",
       "1466                1              2           9991         0   \n",
       "1467                2              2           6142         1   \n",
       "1468                2              2           5390         0   \n",
       "1469                3              2           4404         0   \n",
       "\n",
       "      TotalWorkingYears  WorkLifeBalance  YearsAtCompany  YearsInCurrentRole  \\\n",
       "0                     8                1               6                   4   \n",
       "1                    10                3              10                   7   \n",
       "2                     7                3               0                   0   \n",
       "3                     8                3               8                   7   \n",
       "4                     6                3               2                   2   \n",
       "...                 ...              ...             ...                 ...   \n",
       "1465                 17                3               5                   2   \n",
       "1466                  9                3               7                   7   \n",
       "1467                  6                3               6                   2   \n",
       "1468                 17                2               9                   6   \n",
       "1469                  6                4               4                   3   \n",
       "\n",
       "      YearsSinceLastPromotion  YearsWithCurrManager  DistanceFromHome  \n",
       "0                           0                     5                 1  \n",
       "1                           1                     7                 8  \n",
       "2                           0                     0                 2  \n",
       "3                           3                     0                 3  \n",
       "4                           2                     2                 2  \n",
       "...                       ...                   ...               ...  \n",
       "1465                        0                     3                23  \n",
       "1466                        1                     7                 6  \n",
       "1467                        0                     3                 4  \n",
       "1468                        0                     8                 2  \n",
       "1469                        1                     2                 8  \n",
       "\n",
       "[1470 rows x 20 columns]"
      ]
     },
     "execution_count": 326,
     "metadata": {},
     "output_type": "execute_result"
    }
   ],
   "source": [
    "df"
   ]
  },
  {
   "cell_type": "code",
   "execution_count": 327,
   "id": "d83d85a8",
   "metadata": {},
   "outputs": [],
   "source": [
    "# splitting the data in to predictors and target\n",
    "\n",
    "df_y=df.Attrition\n",
    "df_x=df.drop(\"Attrition\",axis=1)"
   ]
  },
  {
   "cell_type": "code",
   "execution_count": 328,
   "id": "4c967187",
   "metadata": {},
   "outputs": [
    {
     "data": {
      "text/plain": [
       "(1249, 1249, 221, 221)"
      ]
     },
     "execution_count": 328,
     "metadata": {},
     "output_type": "execute_result"
    }
   ],
   "source": [
    "# splitting the data into train and test\n",
    "train_x,test_x,train_y,test_y=train_test_split(df_x,df_y,test_size=0.15,stratify=df_y)\n",
    "len(train_x),len(train_y),len(test_x),len(test_y)"
   ]
  },
  {
   "cell_type": "code",
   "execution_count": 329,
   "id": "3cc11d08",
   "metadata": {},
   "outputs": [
    {
     "data": {
      "text/plain": [
       "(1061, 1061, 188, 188)"
      ]
     },
     "execution_count": 329,
     "metadata": {},
     "output_type": "execute_result"
    }
   ],
   "source": [
    "# splitting the train data into train and validation data\n",
    "train_x,valid_x,train_y,valid_y=train_test_split(train_x,train_y,test_size=0.15,stratify=train_y)\n",
    "len(train_x),len(train_y),len(valid_x),len(valid_y)\n"
   ]
  },
  {
   "cell_type": "markdown",
   "id": "0376b895",
   "metadata": {},
   "source": [
    "### Model Building:\n",
    "\n",
    "### Experiment 1:\n",
    "- Finding the optimal depth of the tree that would classify the observations as accurately as possible.\n",
    "\n",
    "#### I will be using cross validation using 10 k folds.\n",
    "\n",
    "#### I will be using f1 as my evaluation metric as the dataset is highly imbalanced."
   ]
  },
  {
   "cell_type": "code",
   "execution_count": 260,
   "id": "5059307d",
   "metadata": {},
   "outputs": [],
   "source": [
    "# writing a loop to find the optimal max_depth\n",
    "\n",
    "depth=range(1,25)\n",
    "f1=[]\n",
    "\n",
    "for i in depth:\n",
    "    dt=DecisionTreeClassifier(max_depth=i,min_samples_leaf=10,criterion='gini')\n",
    "    fit=dt.fit(train_x,train_y)\n",
    "    score=cross_val_score(dt,train_x,train_y,cv=10,scoring='f1')\n",
    "    f1.append(score.mean())\n",
    "\n"
   ]
  },
  {
   "cell_type": "code",
   "execution_count": 261,
   "id": "f235e0af",
   "metadata": {},
   "outputs": [
    {
     "data": {
      "text/plain": [
       "[<matplotlib.lines.Line2D at 0x7fcf0b54f700>]"
      ]
     },
     "execution_count": 261,
     "metadata": {},
     "output_type": "execute_result"
    },
    {
     "data": {
      "image/png": "[encoded data removed]",
      "text/plain": [
       "<Figure size 432x288 with 1 Axes>"
      ]
     },
     "metadata": {
      "needs_background": "light"
     },
     "output_type": "display_data"
    }
   ],
   "source": [
    "# Plotting to find the optimal depth\n",
    "\n",
    "plt.plot(depth,f1)"
   ]
  },
  {
   "cell_type": "code",
   "execution_count": 269,
   "id": "863e688c",
   "metadata": {},
   "outputs": [
    {
     "data": {
      "text/plain": [
       "(0.3390088963996083, [0.3390088963996083])"
      ]
     },
     "execution_count": 269,
     "metadata": {},
     "output_type": "execute_result"
    }
   ],
   "source": [
    "np.max(f1),f1[11:12]"
   ]
  },
  {
   "cell_type": "markdown",
   "id": "e6afbfa3",
   "metadata": {},
   "source": [
    "### k=11 is the depth that gives highest f1 score of 0.34 with min_samples_leaf=10 on training data.\n",
    "\n",
    "### This is bad model as f1 score is very low"
   ]
  },
  {
   "cell_type": "markdown",
   "id": "446fa62f",
   "metadata": {},
   "source": [
    "### Experiment 2:\n",
    "-Using grid search CV to find the optimal depth and min_samples_leaf for the tree"
   ]
  },
  {
   "cell_type": "code",
   "execution_count": 270,
   "id": "ea35ebe6",
   "metadata": {},
   "outputs": [
    {
     "name": "stdout",
     "output_type": "stream",
     "text": [
      "{'max_depth': 14, 'min_samples_leaf': 10}\n",
      "0.3390088963996083\n"
     ]
    }
   ],
   "source": [
    "# Importing libraries\n",
    "\n",
    "from sklearn.model_selection import GridSearchCV\n",
    "\n",
    "# using GridSearchCV fro cross validation\n",
    "dtree= DecisionTreeClassifier()\n",
    "\n",
    "# MAE\n",
    "gs1=GridSearchCV(dtree,param_grid={\"max_depth\":range(1,25),\"min_samples_leaf\":range(10,60,10)},cv=10,\n",
    "                scoring='f1')\n",
    "\n",
    "# fitting grid search\n",
    "gs1.fit(train_x,train_y)\n",
    "\n",
    "print(gs1.best_params_)\n",
    "print(gs1.best_score_)\n",
    "model1_f1=gs1.best_score_"
   ]
  },
  {
   "cell_type": "markdown",
   "id": "a7d21722",
   "metadata": {},
   "source": [
    "#### f1 score did not improve."
   ]
  },
  {
   "cell_type": "code",
   "execution_count": 271,
   "id": "66824622",
   "metadata": {},
   "outputs": [
    {
     "data": {
      "text/plain": [
       "(0.4444444444444445, 0.8404255319148937)"
      ]
     },
     "execution_count": 271,
     "metadata": {},
     "output_type": "execute_result"
    }
   ],
   "source": [
    "# checking on validation data\n",
    "dtree=DecisionTreeClassifier(max_depth=8,min_samples_leaf=20)\n",
    "model=dtree.fit(train_x,train_y)\n",
    "pred=fit.predict(valid_x)\n",
    "\n",
    "# accuracy score\n",
    "f1_score(np.array(valid_y),pred),accuracy_score(np.array(valid_y),pred)"
   ]
  },
  {
   "cell_type": "code",
   "execution_count": 272,
   "id": "e5863180",
   "metadata": {},
   "outputs": [
    {
     "data": {
      "text/plain": [
       "array([[146,  12],\n",
       "       [ 18,  12]])"
      ]
     },
     "execution_count": 272,
     "metadata": {},
     "output_type": "execute_result"
    }
   ],
   "source": [
    "# confusion matrix\n",
    "confusion_matrix(valid_y,pred)"
   ]
  },
  {
   "cell_type": "markdown",
   "id": "1ae4972d",
   "metadata": {},
   "source": [
    "### This model would give f1 score of 0.44 on the validation dataset with only 40 misclassifications."
   ]
  },
  {
   "cell_type": "markdown",
   "id": "146dac26",
   "metadata": {},
   "source": [
    "### Experiment 3:\n",
    "- Let's try bagging model and see if accuracy increases."
   ]
  },
  {
   "cell_type": "code",
   "execution_count": 273,
   "id": "42e38d52",
   "metadata": {},
   "outputs": [
    {
     "data": {
      "text/plain": [
       "(0.4651162790697674, 0.8776595744680851)"
      ]
     },
     "execution_count": 273,
     "metadata": {},
     "output_type": "execute_result"
    }
   ],
   "source": [
    "from sklearn.ensemble import BaggingClassifier\n",
    "from sklearn.metrics import confusion_matrix, accuracy_score\n",
    "\n",
    "# fitting bagged model\n",
    "\n",
    "model=BaggingClassifier(base_estimator=None,oob_score=True)\n",
    "fit=model.fit(train_x,train_y)\n",
    "pred=fit.predict(valid_x)\n",
    "\n",
    "# finding the ccuracy score of the model\n",
    "f1_score(np.array(valid_y),pred),accuracy_score(np.array(valid_y),pred)\n"
   ]
  },
  {
   "cell_type": "code",
   "execution_count": 274,
   "id": "6c2f7810",
   "metadata": {},
   "outputs": [
    {
     "data": {
      "text/plain": [
       "array([[155,   3],\n",
       "       [ 20,  10]])"
      ]
     },
     "execution_count": 274,
     "metadata": {},
     "output_type": "execute_result"
    }
   ],
   "source": [
    "# confusion matrix\n",
    "confusion_matrix(valid_y,pred)"
   ]
  },
  {
   "cell_type": "markdown",
   "id": "a5434531",
   "metadata": {},
   "source": [
    "#### Bagged model with default settings would give f1 score of 0.46 with just 23 misclassifications."
   ]
  },
  {
   "cell_type": "code",
   "execution_count": 275,
   "id": "3360a18d",
   "metadata": {},
   "outputs": [
    {
     "data": {
      "text/plain": [
       "(0.2777777777777778, 0.8617021276595744)"
      ]
     },
     "execution_count": 275,
     "metadata": {},
     "output_type": "execute_result"
    }
   ],
   "source": [
    "# Bagged model with hypertuned tree\n",
    "\n",
    "# fitting bagged model\n",
    "\n",
    "model=BaggingClassifier(base_estimator=dtree,n_estimators=1000,oob_score=True)\n",
    "fit=model.fit(train_x,train_y)\n",
    "pred=fit.predict(valid_x)\n",
    "\n",
    "# finding the ccuracy score of the model\n",
    "f1_score(np.array(valid_y),pred),accuracy_score(np.array(valid_y),pred)\n"
   ]
  },
  {
   "cell_type": "code",
   "execution_count": 276,
   "id": "af7fe8e3",
   "metadata": {},
   "outputs": [
    {
     "data": {
      "text/plain": [
       "array([[157,   1],\n",
       "       [ 25,   5]])"
      ]
     },
     "execution_count": 276,
     "metadata": {},
     "output_type": "execute_result"
    }
   ],
   "source": [
    "# confusion matrix\n",
    "confusion_matrix(valid_y,pred)"
   ]
  },
  {
   "cell_type": "markdown",
   "id": "278d9b70",
   "metadata": {},
   "source": [
    "#### Bagged model with hypertuned tree would give f1 score of 0.28 with just 26 misclassifications."
   ]
  },
  {
   "cell_type": "markdown",
   "id": "19b592af",
   "metadata": {},
   "source": [
    "### Experiment 4:\n",
    "- Let's try randon forest model"
   ]
  },
  {
   "cell_type": "code",
   "execution_count": 282,
   "id": "df4996d9",
   "metadata": {},
   "outputs": [
    {
     "data": {
      "text/plain": [
       "(0.33333333333333337, 0.8723404255319149)"
      ]
     },
     "execution_count": 282,
     "metadata": {},
     "output_type": "execute_result"
    }
   ],
   "source": [
    "from sklearn.ensemble import RandomForestClassifier\n",
    "\n",
    "#fitting random forest model and predicting on train data\n",
    "rf = RandomForestClassifier(n_estimators = 1000, oob_score=True, max_features=1, n_jobs=-1)\n",
    "rf.fit(train_x,train_y)\n",
    "y_pred=rf.predict(valid_x)\n",
    "f1_score(np.array(valid_y),y_pred),accuracy_score(np.array(valid_y),y_pred)"
   ]
  },
  {
   "cell_type": "code",
   "execution_count": 283,
   "id": "951a1ed6",
   "metadata": {},
   "outputs": [
    {
     "data": {
      "text/plain": [
       "array([[158,   0],\n",
       "       [ 24,   6]])"
      ]
     },
     "execution_count": 283,
     "metadata": {},
     "output_type": "execute_result"
    }
   ],
   "source": [
    "# confusion matrix\n",
    "confusion_matrix(valid_y,y_pred)"
   ]
  },
  {
   "cell_type": "markdown",
   "id": "68d19f8a",
   "metadata": {},
   "source": [
    "#### Random Forest model would give  f1 score of 0.33 with 24 misclassifications."
   ]
  },
  {
   "cell_type": "markdown",
   "id": "7ff0746b",
   "metadata": {},
   "source": [
    "### Upsampling the minority class in the train dataset\n",
    "\n",
    "### Experiment 5:"
   ]
  },
  {
   "cell_type": "code",
   "execution_count": 284,
   "id": "b09a9b36",
   "metadata": {},
   "outputs": [],
   "source": [
    "# using the upsample technique to balance the train data\n",
    "\n",
    "df_train=train_x\n",
    "df_train[\"Attrition\"]=pd.DataFrame(train_y)[\"Attrition\"]\n",
    "\n",
    "from sklearn.utils import resample\n",
    "\n",
    "#create two different dataframe of majority and minority class \n",
    "df_majority = df_train[(df_train['Attrition']==0)] \n",
    "df_minority = df_train[(df_train['Attrition']==1)] \n",
    "# upsample minority class\n",
    "df_minority_upsampled = resample(df_minority, \n",
    "                                 replace=True,n_samples=890)\n",
    "# Combine majority class with upsampled minority class\n",
    "df_upsampled = pd.concat([df_minority_upsampled, df_majority])"
   ]
  },
  {
   "cell_type": "code",
   "execution_count": 285,
   "id": "a64903b9",
   "metadata": {},
   "outputs": [
    {
     "data": {
      "text/plain": [
       "1    890\n",
       "0    890\n",
       "Name: Attrition, dtype: int64"
      ]
     },
     "execution_count": 285,
     "metadata": {},
     "output_type": "execute_result"
    }
   ],
   "source": [
    "df_upsampled[\"Attrition\"].value_counts()"
   ]
  },
  {
   "cell_type": "code",
   "execution_count": 286,
   "id": "d24ff92a",
   "metadata": {},
   "outputs": [],
   "source": [
    "upsampled_train_y=df_upsampled.Attrition\n",
    "upsampled_train_x=df_upsampled.drop(\"Attrition\",axis=1)"
   ]
  },
  {
   "cell_type": "code",
   "execution_count": 296,
   "id": "dbf2c828",
   "metadata": {},
   "outputs": [
    {
     "data": {
      "text/plain": [
       "(0.5428571428571427, 0.8297872340425532)"
      ]
     },
     "execution_count": 296,
     "metadata": {},
     "output_type": "execute_result"
    }
   ],
   "source": [
    "# Let's fit a bagged model on this new dataset\n",
    "\n",
    "# fitting bagged model\n",
    "\n",
    "model=BaggingClassifier(base_estimator=dtree,n_estimators=1000,oob_score=True)\n",
    "fit=model.fit(upsampled_train_x,upsampled_train_y)\n",
    "pred=fit.predict(valid_x)\n",
    "\n",
    "# finding the ccuracy score of the model\n",
    "f1_score(np.array(valid_y),pred),accuracy_score(np.array(valid_y),pred)\n"
   ]
  },
  {
   "cell_type": "code",
   "execution_count": 288,
   "id": "ce6f36df",
   "metadata": {},
   "outputs": [
    {
     "data": {
      "text/plain": [
       "array([[136,  22],\n",
       "       [ 11,  19]])"
      ]
     },
     "execution_count": 288,
     "metadata": {},
     "output_type": "execute_result"
    }
   ],
   "source": [
    "# confusion matrix\n",
    "confusion_matrix(valid_y,pred)"
   ]
  },
  {
   "cell_type": "markdown",
   "id": "f22cec83",
   "metadata": {},
   "source": [
    "### Even though this model has misclassified 33 observations, the correctly classified minority class is increased."
   ]
  },
  {
   "cell_type": "code",
   "execution_count": 308,
   "id": "ee7a1606",
   "metadata": {},
   "outputs": [
    {
     "data": {
      "text/plain": [
       "(0.4651162790697674, 0.8776595744680851)"
      ]
     },
     "execution_count": 308,
     "metadata": {},
     "output_type": "execute_result"
    }
   ],
   "source": [
    "#fitting random forest model and predicting on upsampled train data\n",
    "rf = RandomForestClassifier(n_estimators = 1000, oob_score=True)\n",
    "rf.fit(upsampled_train_x,upsampled_train_y)\n",
    "y_pred=rf.predict(valid_x)\n",
    "f1_score(np.array(valid_y),y_pred),accuracy_score(np.array(valid_y),y_pred)"
   ]
  },
  {
   "cell_type": "code",
   "execution_count": 309,
   "id": "7a25f386",
   "metadata": {},
   "outputs": [
    {
     "data": {
      "text/plain": [
       "array([[155,   3],\n",
       "       [ 20,  10]])"
      ]
     },
     "execution_count": 309,
     "metadata": {},
     "output_type": "execute_result"
    }
   ],
   "source": [
    "# confusion matrix\n",
    "confusion_matrix(valid_y,y_pred)"
   ]
  },
  {
   "cell_type": "markdown",
   "id": "8f4ccb24",
   "metadata": {},
   "source": [
    "### This is the best model that we have got so far."
   ]
  },
  {
   "cell_type": "code",
   "execution_count": 336,
   "id": "d4ff7b12",
   "metadata": {},
   "outputs": [
    {
     "data": {
      "text/plain": [
       "(0.9411764705882353, 0.9819004524886877)"
      ]
     },
     "execution_count": 336,
     "metadata": {},
     "output_type": "execute_result"
    }
   ],
   "source": [
    "# Testing on the test data\n",
    "\n",
    "rf.fit(upsampled_train_x,upsampled_train_y)\n",
    "y_pred=rf.predict(test_x)\n",
    "f1_score(np.array(test_y),y_pred),accuracy_score(np.array(test_y),y_pred)\n"
   ]
  },
  {
   "cell_type": "markdown",
   "id": "5839e58b",
   "metadata": {},
   "source": [
    "### Randon forest model is showing high variance on the training and validation data and low variance on the test data.\n",
    "\n",
    "### Even though the results on test data are good, this model is not stable."
   ]
  },
  {
   "cell_type": "code",
   "execution_count": null,
   "id": "24ddbf3b",
   "metadata": {},
   "outputs": [],
   "source": []
  },
  {
   "cell_type": "code",
   "execution_count": null,
   "id": "dba1b78c",
   "metadata": {},
   "outputs": [],
   "source": []
  }
 ],
 "metadata": {
  "kernelspec": {
   "display_name": "Python 3 (ipykernel)",
   "language": "python",
   "name": "python3"
  },
  "language_info": {
   "codemirror_mode": {
    "name": "ipython",
    "version": 3
   },
   "file_extension": ".py",
   "mimetype": "text/x-python",
   "name": "python",
   "nbconvert_exporter": "python",
   "pygments_lexer": "ipython3",
   "version": "3.9.7"
  }
 },
 "nbformat": 4,
 "nbformat_minor": 5
}
